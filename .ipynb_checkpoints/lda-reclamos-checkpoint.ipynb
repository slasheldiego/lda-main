{
 "cells": [
  {
   "cell_type": "code",
   "execution_count": 3,
   "metadata": {},
   "outputs": [
    {
     "name": "stdout",
     "output_type": "stream",
     "text": [
      "1103665\n",
      "                                       headline_text  index\n",
      "0  aba decides against community broadcasting lic...      0\n",
      "1     act fire witnesses must be aware of defamation      1\n",
      "2     a g calls for infrastructure protection summit      2\n",
      "3           air nz staff in aust strike for pay rise      3\n",
      "4      air nz strike to affect australian travellers      4\n"
     ]
    }
   ],
   "source": [
    "# Importamos data de titulos de noticias de los últimos 15 años obtenidos de Kaggle\n",
    "import pandas as pd\n",
    "\n",
    "data = pd.read_csv('abcnews-date-text.csv', error_bad_lines=False);\n",
    "data_text = data[['headline_text']]\n",
    "\n",
    "#Agrega una columna adicional como index basado en los indexes de la misma estructura\n",
    "data_text['index'] = data_text.index\n",
    "documents = data_text\n",
    "\n",
    "\n",
    "print(len(documents))\n",
    "print(documents[:5])\n",
    "\n"
   ]
  },
  {
   "cell_type": "code",
   "execution_count": 10,
   "metadata": {},
   "outputs": [
    {
     "name": "stdout",
     "output_type": "stream",
     "text": [
      "[nltk_data] Downloading package wordnet to D:\\Datos de\n",
      "[nltk_data]     Usuarios\\s80338\\Application Data\\nltk_data...\n",
      "[nltk_data]   Package wordnet is already up-to-date!\n"
     ]
    },
    {
     "data": {
      "text/plain": [
       "True"
      ]
     },
     "execution_count": 10,
     "metadata": {},
     "output_type": "execute_result"
    }
   ],
   "source": [
    "# Preprocesamiento de datos\n",
    "\n",
    "#Ejecutaremos los siguientes pasos:\n",
    "\n",
    "# 1. Tokenization: Parte el texto en sentencias y las sentencias en palabras. Las palabras se ponen en minuscula\n",
    "#                  y se remueve la puntuación\n",
    "# 2. Palabras que tienen menos de 3 caracteres son removidos.\n",
    "# 3. Se eliminan todas las palabras de parada\n",
    "# 4. Las palabras son lematizadas: Las palabras en tercera persona son cambiadas a primera persona \n",
    "#                                  y los verbos en pasado y futuro son cambiado a presente\n",
    "# 5. Las palabras se derivan: Las palabras se reducen en su forma raiz\n",
    "\n",
    "# Loading gensim and nltk libraries\n",
    "\n",
    "import gensim\n",
    "from gensim.utils import simple_preprocess\n",
    "from gensim.parsing.preprocessing import STOPWORDS\n",
    "from nltk.stem import WordNetLemmatizer, SnowballStemmer, PorterStemmer\n",
    "from nltk.stem.porter import *\n",
    "import numpy as np\n",
    "np.random.seed(2018)\n",
    "import nltk\n",
    "nltk.download('wordnet')"
   ]
  },
  {
   "cell_type": "code",
   "execution_count": 11,
   "metadata": {},
   "outputs": [],
   "source": [
    "# Se escribe una funcion para ejecutar la lematización y preprocesamiento en el conjunto de datos\n",
    "\n",
    "def lemmatize_stemming(text):\n",
    "    return stemmer.stem(WordNetLemmatizer().lemmatize(text, pos='v'))\n",
    "def preprocess(text):\n",
    "    result = []\n",
    "    for token in gensim.utils.simple_preprocess(text):\n",
    "        if token not in gensim.parsing.preprocessing.STOPWORDS and len(token) > 3:\n",
    "            result.append(lemmatize_stemming(token))\n",
    "    return result"
   ]
  },
  {
   "cell_type": "code",
   "execution_count": 16,
   "metadata": {},
   "outputs": [
    {
     "name": "stdout",
     "output_type": "stream",
     "text": [
      "original document: \n",
      "['rain', 'helps', 'dampen', 'bushfires']\n",
      "\n",
      "\n",
      " tokenized and lemmatized document: \n",
      "['rain', 'help', 'dampen', 'bushfir']\n"
     ]
    }
   ],
   "source": [
    "# seleccionamos un documento para visualizar luego del preprocesamiento\n",
    "stemmer = PorterStemmer()\n",
    "\n",
    "doc_sample = documents[documents['index'] == 4310].values[0][0]\n",
    "print('original document: ')\n",
    "words = []\n",
    "for word in doc_sample.split(' '):\n",
    "    words.append(word)\n",
    "print(words)\n",
    "print('\\n\\n tokenized and lemmatized document: ')\n",
    "print(preprocess(doc_sample))"
   ]
  },
  {
   "cell_type": "code",
   "execution_count": 18,
   "metadata": {},
   "outputs": [
    {
     "name": "stdout",
     "output_type": "stream",
     "text": [
      "0        [decid, commun, broadcast, licenc]\n",
      "1                        [wit, awar, defam]\n",
      "2    [call, infrastructur, protect, summit]\n",
      "3               [staff, aust, strike, rise]\n",
      "4      [strike, affect, australian, travel]\n",
      "Name: headline_text, dtype: object\n"
     ]
    }
   ],
   "source": [
    "processed_docs = documents['headline_text'].map(preprocess)\n",
    "processed_docs[:10]\n",
    "\n",
    "print(processed_docs[:5])"
   ]
  },
  {
   "cell_type": "code",
   "execution_count": 20,
   "metadata": {},
   "outputs": [
    {
     "name": "stdout",
     "output_type": "stream",
     "text": [
      "0 broadcast\n",
      "1 commun\n",
      "2 decid\n",
      "3 licenc\n",
      "4 awar\n",
      "5 defam\n",
      "6 wit\n",
      "7 call\n",
      "8 infrastructur\n",
      "9 protect\n",
      "10 summit\n",
      "11 aust\n",
      "12 rise\n",
      "13 staff\n",
      "14 strike\n",
      "15 affect\n",
      "16 australian\n",
      "17 travel\n",
      "18 ambiti\n",
      "19 jump\n",
      "20 olsson\n"
     ]
    }
   ],
   "source": [
    "# Bag of Words on the Data set\n",
    "# Crear un diccionaro basado en 'processed_docs' que contiene \n",
    "# el número de veces que una palabra aparece en los datos de entrenamiento\n",
    "dictionary = gensim.corpora.Dictionary(processed_docs)\n",
    "count = 0\n",
    "for k, v in dictionary.iteritems():\n",
    "    print(k, v)\n",
    "    count += 1\n",
    "    if count > 20:\n",
    "        break"
   ]
  },
  {
   "cell_type": "code",
   "execution_count": 21,
   "metadata": {},
   "outputs": [],
   "source": [
    "# Gensim filter_extremes\n",
    "\n",
    "#  Filtra los tokens que aparecen en\n",
    "# 1. menos de 15 documentos (número absoluto) o \n",
    "# 2. más que 0.5 documentos (fracción del tamaño del cuerpo total, no es número absoluto)\n",
    "# 3. Después de los dos pasos anteriores, mantenga solo los primeros 100000 tokens más frecuentes.\n",
    "\n",
    "dictionary.filter_extremes(no_below=15, no_above=0.5, keep_n=100000)"
   ]
  },
  {
   "cell_type": "code",
   "execution_count": 22,
   "metadata": {},
   "outputs": [
    {
     "data": {
      "text/plain": [
       "[(76, 1), (112, 1), (483, 1), (4021, 1)]"
      ]
     },
     "execution_count": 22,
     "metadata": {},
     "output_type": "execute_result"
    }
   ],
   "source": [
    "# Gensim doc2bow\n",
    "# Para cada documento creamos un diccionario que reporte cuantas palabras\n",
    "# and cuantas veces estas palabras aparecen. Guarde esto en 'bow_corpus',\n",
    "# entonces checkee el documento seleccionado previamente.\n",
    "\n",
    "bow_corpus = [dictionary.doc2bow(doc) for doc in processed_docs]\n",
    "bow_corpus[4310]"
   ]
  },
  {
   "cell_type": "code",
   "execution_count": 23,
   "metadata": {},
   "outputs": [
    {
     "name": "stdout",
     "output_type": "stream",
     "text": [
      "Word 76 (\"bushfir\") appears 1 time.\n",
      "Word 112 (\"help\") appears 1 time.\n",
      "Word 483 (\"rain\") appears 1 time.\n",
      "Word 4021 (\"dampen\") appears 1 time.\n"
     ]
    }
   ],
   "source": [
    "# Previsualizar Bag of Words para nuestra muestra documentos procesados\n",
    "bow_doc_4310 = bow_corpus[4310]\n",
    "for i in range(len(bow_doc_4310)):\n",
    "    print(\"Word {} (\\\"{}\\\") appears {} time.\".format(bow_doc_4310[i][0], \n",
    "                                               dictionary[bow_doc_4310[i][0]], \n",
    "bow_doc_4310[i][1]))"
   ]
  },
  {
   "cell_type": "code",
   "execution_count": 24,
   "metadata": {},
   "outputs": [
    {
     "name": "stdout",
     "output_type": "stream",
     "text": [
      "[(0, 0.5903602896750699),\n",
      " (1, 0.38524510107363613),\n",
      " (2, 0.4974556071174764),\n",
      " (3, 0.5055678583740412)]\n"
     ]
    }
   ],
   "source": [
    "# TF-IDF\n",
    "# Crear el objeto de modelo tf-idf usando models.TfidModel en 'bow_corpus'\n",
    "# y guardarlo en 'tdidf', luego aplicar tranformación al cuerpo entero y\n",
    "# llamarlo 'corpus_tfidf'. Finalmente previsualizamos los scores TF-IDF\n",
    "# para nuestro primer documento\n",
    "\n",
    "from gensim import corpora, models\n",
    "tfidf = models.TfidfModel(bow_corpus)\n",
    "corpus_tfidf = tfidf[bow_corpus]\n",
    "from pprint import pprint\n",
    "for doc in corpus_tfidf:\n",
    "    pprint(doc)\n",
    "    break"
   ]
  },
  {
   "cell_type": "code",
   "execution_count": 25,
   "metadata": {},
   "outputs": [],
   "source": [
    "# Running LDA using Bag of Words\n",
    "# Entrenar nuestro modelo lda usando gensim.models.LdaMulticore y \n",
    "# guardarlo en 'lda_model'\n",
    "\n",
    "lda_model = gensim.models.LdaMulticore(bow_corpus, num_topics=10, id2word=dictionary, passes=2, workers=2)"
   ]
  },
  {
   "cell_type": "code",
   "execution_count": 26,
   "metadata": {},
   "outputs": [
    {
     "name": "stdout",
     "output_type": "stream",
     "text": [
      "Topic: 0 \n",
      "Words: 0.031*\"queensland\" + 0.020*\"countri\" + 0.018*\"hospit\" + 0.017*\"tasmanian\" + 0.017*\"hour\" + 0.015*\"work\" + 0.014*\"children\" + 0.013*\"citi\" + 0.011*\"prison\" + 0.010*\"young\"\n",
      "Topic: 1 \n",
      "Words: 0.029*\"australia\" + 0.023*\"world\" + 0.017*\"market\" + 0.012*\"record\" + 0.012*\"share\" + 0.011*\"victoria\" + 0.010*\"industri\" + 0.009*\"melbourn\" + 0.009*\"australian\" + 0.009*\"port\"\n",
      "Topic: 2 \n",
      "Words: 0.035*\"trump\" + 0.022*\"kill\" + 0.022*\"north\" + 0.020*\"coast\" + 0.016*\"china\" + 0.015*\"attack\" + 0.015*\"west\" + 0.014*\"adelaid\" + 0.013*\"price\" + 0.013*\"gold\"\n",
      "Topic: 3 \n",
      "Words: 0.027*\"govern\" + 0.016*\"plan\" + 0.014*\"rural\" + 0.013*\"say\" + 0.013*\"council\" + 0.012*\"indigen\" + 0.012*\"turnbul\" + 0.012*\"water\" + 0.011*\"chang\" + 0.011*\"commun\"\n",
      "Topic: 4 \n",
      "Words: 0.017*\"tasmania\" + 0.015*\"time\" + 0.015*\"fight\" + 0.014*\"lose\" + 0.011*\"john\" + 0.010*\"life\" + 0.009*\"premier\" + 0.009*\"make\" + 0.009*\"unit\" + 0.008*\"michael\"\n",
      "Topic: 5 \n",
      "Words: 0.027*\"elect\" + 0.023*\"south\" + 0.016*\"open\" + 0.015*\"australia\" + 0.013*\"final\" + 0.012*\"nation\" + 0.010*\"royal\" + 0.010*\"polit\" + 0.010*\"talk\" + 0.010*\"budget\"\n",
      "Topic: 6 \n",
      "Words: 0.017*\"brisban\" + 0.016*\"famili\" + 0.014*\"child\" + 0.013*\"report\" + 0.012*\"jail\" + 0.012*\"abus\" + 0.011*\"sentenc\" + 0.011*\"show\" + 0.010*\"victim\" + 0.010*\"releas\"\n",
      "Topic: 7 \n",
      "Words: 0.022*\"hous\" + 0.020*\"die\" + 0.016*\"home\" + 0.014*\"crash\" + 0.014*\"break\" + 0.013*\"perth\" + 0.013*\"take\" + 0.011*\"lead\" + 0.011*\"near\" + 0.009*\"star\"\n",
      "Topic: 8 \n",
      "Words: 0.034*\"polic\" + 0.018*\"health\" + 0.018*\"interview\" + 0.017*\"miss\" + 0.014*\"investig\" + 0.013*\"sydney\" + 0.013*\"concern\" + 0.011*\"search\" + 0.011*\"servic\" + 0.011*\"call\"\n",
      "Topic: 9 \n",
      "Words: 0.032*\"charg\" + 0.029*\"court\" + 0.023*\"murder\" + 0.023*\"polic\" + 0.019*\"face\" + 0.015*\"accus\" + 0.015*\"woman\" + 0.015*\"donald\" + 0.014*\"drug\" + 0.014*\"arrest\"\n"
     ]
    }
   ],
   "source": [
    "# Para cada tópico, exploraremos las palabras que aparecen en ese tópico y su peso relativo.\n",
    "for idx, topic in lda_model.print_topics(-1):\n",
    "    print('Topic: {} \\nWords: {}'.format(idx, topic))\n",
    "    \n",
    "# Puedes distinguir los diferentes tópicos usando las palabras en cada tópico y sus pesos correspondientes?"
   ]
  },
  {
   "cell_type": "code",
   "execution_count": 27,
   "metadata": {},
   "outputs": [
    {
     "name": "stdout",
     "output_type": "stream",
     "text": [
      "Topic: 0 Word: 0.016*\"countri\" + 0.015*\"hour\" + 0.012*\"govern\" + 0.008*\"health\" + 0.007*\"fund\" + 0.006*\"budget\" + 0.006*\"say\" + 0.005*\"indigen\" + 0.005*\"violenc\" + 0.005*\"abbott\"\n",
      "Topic: 1 Word: 0.008*\"royal\" + 0.006*\"climat\" + 0.006*\"festiv\" + 0.006*\"dollar\" + 0.006*\"commiss\" + 0.006*\"asylum\" + 0.006*\"dairi\" + 0.005*\"coal\" + 0.005*\"toni\" + 0.005*\"seeker\"\n",
      "Topic: 2 Word: 0.009*\"live\" + 0.008*\"farm\" + 0.007*\"marriag\" + 0.007*\"busi\" + 0.006*\"council\" + 0.006*\"plan\" + 0.005*\"water\" + 0.005*\"andrew\" + 0.005*\"social\" + 0.004*\"updat\"\n",
      "Topic: 3 Word: 0.012*\"drum\" + 0.011*\"interview\" + 0.007*\"australia\" + 0.007*\"septemb\" + 0.007*\"novemb\" + 0.007*\"august\" + 0.006*\"stori\" + 0.006*\"june\" + 0.006*\"zealand\" + 0.006*\"polic\"\n",
      "Topic: 4 Word: 0.007*\"friday\" + 0.007*\"peter\" + 0.007*\"korea\" + 0.006*\"search\" + 0.005*\"north\" + 0.005*\"wrap\" + 0.005*\"pacif\" + 0.005*\"kid\" + 0.004*\"miss\" + 0.004*\"paul\"\n",
      "Topic: 5 Word: 0.007*\"kill\" + 0.006*\"syria\" + 0.006*\"bomb\" + 0.005*\"decemb\" + 0.005*\"attack\" + 0.005*\"capit\" + 0.005*\"australian\" + 0.005*\"suicid\" + 0.005*\"australia\" + 0.005*\"say\"\n",
      "Topic: 6 Word: 0.019*\"rural\" + 0.013*\"news\" + 0.010*\"queensland\" + 0.009*\"weather\" + 0.008*\"john\" + 0.007*\"nation\" + 0.006*\"bushfir\" + 0.006*\"monday\" + 0.006*\"flood\" + 0.005*\"east\"\n",
      "Topic: 7 Word: 0.019*\"trump\" + 0.016*\"crash\" + 0.009*\"polic\" + 0.009*\"driver\" + 0.009*\"die\" + 0.008*\"fatal\" + 0.007*\"sport\" + 0.007*\"dead\" + 0.006*\"michael\" + 0.006*\"woman\"\n",
      "Topic: 8 Word: 0.014*\"murder\" + 0.014*\"charg\" + 0.010*\"market\" + 0.010*\"court\" + 0.008*\"turnbul\" + 0.008*\"assault\" + 0.008*\"guilti\" + 0.008*\"child\" + 0.007*\"sentenc\" + 0.007*\"jail\"\n",
      "Topic: 9 Word: 0.011*\"podcast\" + 0.010*\"donald\" + 0.009*\"final\" + 0.008*\"grandstand\" + 0.008*\"world\" + 0.006*\"sexual\" + 0.006*\"leagu\" + 0.005*\"grand\" + 0.005*\"open\" + 0.005*\"scott\"\n"
     ]
    }
   ],
   "source": [
    "# Running LDA using TF-IDF\n",
    "lda_model_tfidf = gensim.models.LdaMulticore(corpus_tfidf, num_topics=10, id2word=dictionary, passes=2, workers=4)\n",
    "for idx, topic in lda_model_tfidf.print_topics(-1):\n",
    "    print('Topic: {} Word: {}'.format(idx, topic))\n",
    "    \n",
    "# Nuevamente, puedes distinguir los diferentes tópicos usando las palabras en cada tópico y sus pesos correspondientes?"
   ]
  },
  {
   "cell_type": "code",
   "execution_count": 28,
   "metadata": {},
   "outputs": [
    {
     "data": {
      "text/plain": [
       "['rain', 'help', 'dampen', 'bushfir']"
      ]
     },
     "execution_count": 28,
     "metadata": {},
     "output_type": "execute_result"
    }
   ],
   "source": [
    "# Evaluación del desempeño clasificando un documento de muestra usando \n",
    "# el modelo LDA Bag of Words\n",
    "# Checkeare donde nuestro documento de texto sería clasificado\n",
    "\n",
    "processed_docs[4310]"
   ]
  },
  {
   "cell_type": "code",
   "execution_count": 29,
   "metadata": {},
   "outputs": [
    {
     "name": "stdout",
     "output_type": "stream",
     "text": [
      "\n",
      "Score: 0.41999998688697815\t \n",
      "Topic: 0.022*\"hous\" + 0.020*\"die\" + 0.016*\"home\" + 0.014*\"crash\" + 0.014*\"break\" + 0.013*\"perth\" + 0.013*\"take\" + 0.011*\"lead\" + 0.011*\"near\" + 0.009*\"star\"\n",
      "\n",
      "Score: 0.4199969172477722\t \n",
      "Topic: 0.027*\"govern\" + 0.016*\"plan\" + 0.014*\"rural\" + 0.013*\"say\" + 0.013*\"council\" + 0.012*\"indigen\" + 0.012*\"turnbul\" + 0.012*\"water\" + 0.011*\"chang\" + 0.011*\"commun\"\n",
      "\n",
      "Score: 0.020001854747533798\t \n",
      "Topic: 0.017*\"brisban\" + 0.016*\"famili\" + 0.014*\"child\" + 0.013*\"report\" + 0.012*\"jail\" + 0.012*\"abus\" + 0.011*\"sentenc\" + 0.011*\"show\" + 0.010*\"victim\" + 0.010*\"releas\"\n",
      "\n",
      "Score: 0.02000102587044239\t \n",
      "Topic: 0.034*\"polic\" + 0.018*\"health\" + 0.018*\"interview\" + 0.017*\"miss\" + 0.014*\"investig\" + 0.013*\"sydney\" + 0.013*\"concern\" + 0.011*\"search\" + 0.011*\"servic\" + 0.011*\"call\"\n",
      "\n",
      "Score: 0.020000219345092773\t \n",
      "Topic: 0.035*\"trump\" + 0.022*\"kill\" + 0.022*\"north\" + 0.020*\"coast\" + 0.016*\"china\" + 0.015*\"attack\" + 0.015*\"west\" + 0.014*\"adelaid\" + 0.013*\"price\" + 0.013*\"gold\"\n",
      "\n",
      "Score: 0.019999999552965164\t \n",
      "Topic: 0.031*\"queensland\" + 0.020*\"countri\" + 0.018*\"hospit\" + 0.017*\"tasmanian\" + 0.017*\"hour\" + 0.015*\"work\" + 0.014*\"children\" + 0.013*\"citi\" + 0.011*\"prison\" + 0.010*\"young\"\n",
      "\n",
      "Score: 0.019999999552965164\t \n",
      "Topic: 0.029*\"australia\" + 0.023*\"world\" + 0.017*\"market\" + 0.012*\"record\" + 0.012*\"share\" + 0.011*\"victoria\" + 0.010*\"industri\" + 0.009*\"melbourn\" + 0.009*\"australian\" + 0.009*\"port\"\n",
      "\n",
      "Score: 0.019999999552965164\t \n",
      "Topic: 0.017*\"tasmania\" + 0.015*\"time\" + 0.015*\"fight\" + 0.014*\"lose\" + 0.011*\"john\" + 0.010*\"life\" + 0.009*\"premier\" + 0.009*\"make\" + 0.009*\"unit\" + 0.008*\"michael\"\n",
      "\n",
      "Score: 0.019999999552965164\t \n",
      "Topic: 0.027*\"elect\" + 0.023*\"south\" + 0.016*\"open\" + 0.015*\"australia\" + 0.013*\"final\" + 0.012*\"nation\" + 0.010*\"royal\" + 0.010*\"polit\" + 0.010*\"talk\" + 0.010*\"budget\"\n",
      "\n",
      "Score: 0.019999999552965164\t \n",
      "Topic: 0.032*\"charg\" + 0.029*\"court\" + 0.023*\"murder\" + 0.023*\"polic\" + 0.019*\"face\" + 0.015*\"accus\" + 0.015*\"woman\" + 0.015*\"donald\" + 0.014*\"drug\" + 0.014*\"arrest\"\n"
     ]
    }
   ],
   "source": [
    "for index, score in sorted(lda_model[bow_corpus[4310]], key=lambda tup: -1*tup[1]):\n",
    "    print(\"\\nScore: {}\\t \\nTopic: {}\".format(score, lda_model.print_topic(index, 10)))\n",
    "    \n",
    "# Nuestro documento de prueba tiene la mayor probabilidad de ser parte del tema que \n",
    "# nuestro modelo asignó, que es la clasificación precisa."
   ]
  },
  {
   "cell_type": "code",
   "execution_count": 30,
   "metadata": {},
   "outputs": [
    {
     "name": "stdout",
     "output_type": "stream",
     "text": [
      "\n",
      "Score: 0.5668457746505737\t \n",
      "Topic: 0.019*\"rural\" + 0.013*\"news\" + 0.010*\"queensland\" + 0.009*\"weather\" + 0.008*\"john\" + 0.007*\"nation\" + 0.006*\"bushfir\" + 0.006*\"monday\" + 0.006*\"flood\" + 0.005*\"east\"\n",
      "\n",
      "Score: 0.27314287424087524\t \n",
      "Topic: 0.014*\"murder\" + 0.014*\"charg\" + 0.010*\"market\" + 0.010*\"court\" + 0.008*\"turnbul\" + 0.008*\"assault\" + 0.008*\"guilti\" + 0.008*\"child\" + 0.007*\"sentenc\" + 0.007*\"jail\"\n",
      "\n",
      "Score: 0.020002830773591995\t \n",
      "Topic: 0.016*\"countri\" + 0.015*\"hour\" + 0.012*\"govern\" + 0.008*\"health\" + 0.007*\"fund\" + 0.006*\"budget\" + 0.006*\"say\" + 0.005*\"indigen\" + 0.005*\"violenc\" + 0.005*\"abbott\"\n",
      "\n",
      "Score: 0.02000211551785469\t \n",
      "Topic: 0.009*\"live\" + 0.008*\"farm\" + 0.007*\"marriag\" + 0.007*\"busi\" + 0.006*\"council\" + 0.006*\"plan\" + 0.005*\"water\" + 0.005*\"andrew\" + 0.005*\"social\" + 0.004*\"updat\"\n",
      "\n",
      "Score: 0.02000155858695507\t \n",
      "Topic: 0.008*\"royal\" + 0.006*\"climat\" + 0.006*\"festiv\" + 0.006*\"dollar\" + 0.006*\"commiss\" + 0.006*\"asylum\" + 0.006*\"dairi\" + 0.005*\"coal\" + 0.005*\"toni\" + 0.005*\"seeker\"\n",
      "\n",
      "Score: 0.020001551136374474\t \n",
      "Topic: 0.007*\"friday\" + 0.007*\"peter\" + 0.007*\"korea\" + 0.006*\"search\" + 0.005*\"north\" + 0.005*\"wrap\" + 0.005*\"pacif\" + 0.005*\"kid\" + 0.004*\"miss\" + 0.004*\"paul\"\n",
      "\n",
      "Score: 0.020001087337732315\t \n",
      "Topic: 0.007*\"kill\" + 0.006*\"syria\" + 0.006*\"bomb\" + 0.005*\"decemb\" + 0.005*\"attack\" + 0.005*\"capit\" + 0.005*\"australian\" + 0.005*\"suicid\" + 0.005*\"australia\" + 0.005*\"say\"\n",
      "\n",
      "Score: 0.020000964403152466\t \n",
      "Topic: 0.019*\"trump\" + 0.016*\"crash\" + 0.009*\"polic\" + 0.009*\"driver\" + 0.009*\"die\" + 0.008*\"fatal\" + 0.007*\"sport\" + 0.007*\"dead\" + 0.006*\"michael\" + 0.006*\"woman\"\n",
      "\n",
      "Score: 0.020000699907541275\t \n",
      "Topic: 0.012*\"drum\" + 0.011*\"interview\" + 0.007*\"australia\" + 0.007*\"septemb\" + 0.007*\"novemb\" + 0.007*\"august\" + 0.006*\"stori\" + 0.006*\"june\" + 0.006*\"zealand\" + 0.006*\"polic\"\n",
      "\n",
      "Score: 0.020000537857413292\t \n",
      "Topic: 0.011*\"podcast\" + 0.010*\"donald\" + 0.009*\"final\" + 0.008*\"grandstand\" + 0.008*\"world\" + 0.006*\"sexual\" + 0.006*\"leagu\" + 0.005*\"grand\" + 0.005*\"open\" + 0.005*\"scott\"\n"
     ]
    }
   ],
   "source": [
    "# Evaluación del desempeño clasificando un documento de muestra utilizando el modelo LDA TF-IDF.\n",
    "for index, score in sorted(lda_model_tfidf[bow_corpus[4310]], key=lambda tup: -1*tup[1]):\n",
    "    print(\"\\nScore: {}\\t \\nTopic: {}\".format(score, lda_model_tfidf.print_topic(index, 10)))\n",
    "    \n",
    "# Nuestro documento de prueba tiene la mayor probabilidad de ser parte del tema que nuestro \n",
    "# modelo asignó, que es la clasificación precisa."
   ]
  },
  {
   "cell_type": "code",
   "execution_count": 31,
   "metadata": {},
   "outputs": [
    {
     "name": "stdout",
     "output_type": "stream",
     "text": [
      "Score: 0.34999993443489075\t Topic: 0.032*\"charg\" + 0.029*\"court\" + 0.023*\"murder\" + 0.023*\"polic\" + 0.019*\"face\"\n",
      "Score: 0.34998103976249695\t Topic: 0.027*\"elect\" + 0.023*\"south\" + 0.016*\"open\" + 0.015*\"australia\" + 0.013*\"final\"\n",
      "Score: 0.18333333730697632\t Topic: 0.017*\"brisban\" + 0.016*\"famili\" + 0.014*\"child\" + 0.013*\"report\" + 0.012*\"jail\"\n",
      "Score: 0.0166804026812315\t Topic: 0.035*\"trump\" + 0.022*\"kill\" + 0.022*\"north\" + 0.020*\"coast\" + 0.016*\"china\"\n",
      "Score: 0.016671961173415184\t Topic: 0.027*\"govern\" + 0.016*\"plan\" + 0.014*\"rural\" + 0.013*\"say\" + 0.013*\"council\"\n",
      "Score: 0.01666666753590107\t Topic: 0.031*\"queensland\" + 0.020*\"countri\" + 0.018*\"hospit\" + 0.017*\"tasmanian\" + 0.017*\"hour\"\n",
      "Score: 0.01666666753590107\t Topic: 0.029*\"australia\" + 0.023*\"world\" + 0.017*\"market\" + 0.012*\"record\" + 0.012*\"share\"\n",
      "Score: 0.01666666753590107\t Topic: 0.017*\"tasmania\" + 0.015*\"time\" + 0.015*\"fight\" + 0.014*\"lose\" + 0.011*\"john\"\n",
      "Score: 0.01666666753590107\t Topic: 0.022*\"hous\" + 0.020*\"die\" + 0.016*\"home\" + 0.014*\"crash\" + 0.014*\"break\"\n",
      "Score: 0.01666666753590107\t Topic: 0.034*\"polic\" + 0.018*\"health\" + 0.018*\"interview\" + 0.017*\"miss\" + 0.014*\"investig\"\n"
     ]
    }
   ],
   "source": [
    "# Testing model on unseen document\n",
    "unseen_document = 'How a Pentagon deal became an identity crisis for Google'\n",
    "bow_vector = dictionary.doc2bow(preprocess(unseen_document))\n",
    "for index, score in sorted(lda_model[bow_vector], key=lambda tup: -1*tup[1]):\n",
    "    print(\"Score: {}\\t Topic: {}\".format(score, lda_model.print_topic(index, 5)))"
   ]
  },
  {
   "cell_type": "code",
   "execution_count": null,
   "metadata": {},
   "outputs": [],
   "source": []
  }
 ],
 "metadata": {
  "kernelspec": {
   "display_name": "Python 3",
   "language": "python",
   "name": "python3"
  },
  "language_info": {
   "codemirror_mode": {
    "name": "ipython",
    "version": 3
   },
   "file_extension": ".py",
   "mimetype": "text/x-python",
   "name": "python",
   "nbconvert_exporter": "python",
   "pygments_lexer": "ipython3",
   "version": "3.7.0"
  }
 },
 "nbformat": 4,
 "nbformat_minor": 2
}
